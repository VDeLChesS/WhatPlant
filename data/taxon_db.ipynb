{
 "cells": [
  {
   "cell_type": "code",
   "execution_count": 1,
   "id": "d63c1c3db82a253c",
   "metadata": {
    "ExecuteTime": {
     "end_time": "2024-09-26T22:50:29.596515Z",
     "start_time": "2024-09-26T22:50:29.533517Z"
    }
   },
   "outputs": [],
   "source": [
    "import pandas as pd\n",
    "import psycopg2\n",
    "import os\n",
    "import numpy as np"
   ]
  },
  {
   "cell_type": "markdown",
   "id": "a686ede1ed4b0715",
   "metadata": {},
   "source": [
    "## 1. Creating Dataframes for phyla, classes, ..., genera and species from the WFO csv"
   ]
  },
  {
   "cell_type": "code",
   "execution_count": 2,
   "id": "2ec09f7c037cc3f2",
   "metadata": {
    "ExecuteTime": {
     "end_time": "2024-09-26T22:50:30.754751Z",
     "start_time": "2024-09-26T22:50:30.742259Z"
    },
    "collapsed": true
   },
   "outputs": [],
   "source": [
    "columns_to_keep = ['taxonID',\n",
    "                   'scientificName',\n",
    "                   'taxonRank',\n",
    "                   'parentNameUsageID',\n",
    "                   'family',\n",
    "                   'genus',\n",
    "                   'nomenclaturalStatus',\n",
    "                   'taxonomicStatus',\n",
    "                   'acceptedNameUsageID'\n",
    "                   ]\n",
    "\n",
    "# WFO Database saved as csv file\n",
    "input_csv = 'classification.csv'\n",
    "\n",
    "# transforms taxonID to an integer ID (e.g wfo-0001302018 --> 1302018)\n",
    "def taxon_number(taxon_id):\n",
    "    if taxon_id[:3] == 'wfo':\n",
    "        return int(taxon_id[4:])\n",
    "    else:\n",
    "        return 0"
   ]
  },
  {
   "cell_type": "code",
   "execution_count": 3,
   "id": "dcf35f54f5390ad5",
   "metadata": {
    "ExecuteTime": {
     "end_time": "2024-09-27T16:11:07.207316Z",
     "start_time": "2024-09-27T16:11:06.506733Z"
    }
   },
   "outputs": [],
   "source": [
    "# list of english phyla names corresponding to the scientific names\n",
    "phyla_english_names = [('Lycopodiophyta', 'Lycopods'),\n",
    "                       ('Marchantiophyta', 'Liverworts'),\n",
    "                       ('Angiosperms', 'Flowering plants'),\n",
    "                       ('Anthocerotophyta', 'Hornworts'),\n",
    "                       ('Bryophyta', 'Mosses'),\n",
    "                       ('Polypodiophyta', 'Ferns'),\n",
    "                       ('Pinophyta', 'Conifers and allies'),\n",
    "                       ('Ginkgophyta', 'Ginkgo'),\n",
    "                       ('Cycadophyta', 'Cycadophyta')\n",
    "                       ]\n",
    "phyla_english_names_df = pd.DataFrame(phyla_english_names, columns=['scientificName', 'phylum_englishName'])"
   ]
  },
  {
   "cell_type": "code",
   "execution_count": 4,
   "id": "d2b4dd57b82b0492",
   "metadata": {
    "ExecuteTime": {
     "end_time": "2024-09-27T16:11:23.896044Z",
     "start_time": "2024-09-27T16:11:08.076337Z"
    }
   },
   "outputs": [],
   "source": [
    "wfo_df = pd.read_csv(input_csv,\n",
    "                     sep='\\t',\n",
    "                     encoding='ANSI',\n",
    "                     usecols=columns_to_keep,\n",
    "                     converters={0: taxon_number, 5: taxon_number, 19: taxon_number}\n",
    "                     )"
   ]
  },
  {
   "cell_type": "markdown",
   "id": "21c7798caf7d7043",
   "metadata": {},
   "source": [
    "#### 1.1 Exploring the data"
   ]
  },
  {
   "cell_type": "code",
   "execution_count": 5,
   "id": "54a8956051494571",
   "metadata": {
    "ExecuteTime": {
     "end_time": "2024-09-28T11:41:06.954015Z",
     "start_time": "2024-09-28T11:41:06.870132Z"
    }
   },
   "outputs": [
    {
     "data": {
      "text/plain": [
       "nomenclaturalStatus\n",
       "Valid           840842\n",
       "Illegitimate     28364\n",
       "Invalid          18175\n",
       "Superfluous       1561\n",
       "Conserved          521\n",
       "Rejected           432\n",
       "Name: count, dtype: int64"
      ]
     },
     "metadata": {},
     "output_type": "display_data"
    },
    {
     "data": {
      "text/plain": [
       "taxonomicStatus\n",
       "Synonym      943255\n",
       "Accepted     444907\n",
       "Unchecked    187975\n",
       "Name: count, dtype: int64"
      ]
     },
     "metadata": {},
     "output_type": "display_data"
    }
   ],
   "source": [
    "# Possible values for nomenclaturalStatus and taxonomicStatus:\n",
    "display(wfo_df['nomenclaturalStatus'].value_counts())\n",
    "display(wfo_df['taxonomicStatus'].value_counts())\n",
    "# Possible values for taxon rank:\n",
    "# print(wfo_df['taxonRank'].value_counts())"
   ]
  },
  {
   "cell_type": "markdown",
   "id": "d13cb0051f9c4636",
   "metadata": {},
   "source": [
    "We will keep only Conserved and Valid nomenclaturalStatus, and Accepted taxonomicStatus. But first we save all the species which are synonyms of accepted species in a separate dataframe:"
   ]
  },
  {
   "cell_type": "code",
   "execution_count": 6,
   "id": "a1973e9ff9793a9d",
   "metadata": {
    "ExecuteTime": {
     "end_time": "2024-09-27T16:11:27.903927Z",
     "start_time": "2024-09-27T16:11:27.895721Z"
    }
   },
   "outputs": [],
   "source": [
    "# species_synonyms_df = wfo_df.loc[(wfo_df['nomenclaturalStatus'] == 'Valid') & (wfo_df['taxonomicStatus'] == 'Synonym') & (wfo_df['taxonRank'] == 'species'), ['taxonID', 'scientificName', 'acceptedNameUsageID']]\n",
    "# display(species_synonyms_df)"
   ]
  },
  {
   "cell_type": "code",
   "execution_count": 8,
   "id": "45adf480d34166b0",
   "metadata": {
    "ExecuteTime": {
     "end_time": "2024-09-28T11:42:04.506766Z",
     "start_time": "2024-09-28T11:42:02.859241Z"
    }
   },
   "outputs": [
    {
     "data": {
      "text/html": [
       "<div>\n",
       "<style scoped>\n",
       "    .dataframe tbody tr th:only-of-type {\n",
       "        vertical-align: middle;\n",
       "    }\n",
       "\n",
       "    .dataframe tbody tr th {\n",
       "        vertical-align: top;\n",
       "    }\n",
       "\n",
       "    .dataframe thead th {\n",
       "        text-align: right;\n",
       "    }\n",
       "</style>\n",
       "<table border=\"1\" class=\"dataframe\">\n",
       "  <thead>\n",
       "    <tr style=\"text-align: right;\">\n",
       "      <th></th>\n",
       "      <th>taxonID</th>\n",
       "      <th>scientificName</th>\n",
       "      <th>taxonRank</th>\n",
       "      <th>parentNameUsageID</th>\n",
       "      <th>family</th>\n",
       "      <th>genus</th>\n",
       "      <th>nomenclaturalStatus</th>\n",
       "      <th>taxonomicStatus</th>\n",
       "      <th>acceptedNameUsageID</th>\n",
       "    </tr>\n",
       "  </thead>\n",
       "  <tbody>\n",
       "    <tr>\n",
       "      <th>1405743</th>\n",
       "      <td>4000000001</td>\n",
       "      <td>Aa</td>\n",
       "      <td>genus</td>\n",
       "      <td>7000000429</td>\n",
       "      <td>Orchidaceae</td>\n",
       "      <td>Aa</td>\n",
       "      <td>Valid</td>\n",
       "      <td>Accepted</td>\n",
       "      <td>0</td>\n",
       "    </tr>\n",
       "    <tr>\n",
       "      <th>316954</th>\n",
       "      <td>319089</td>\n",
       "      <td>Aa achalensis</td>\n",
       "      <td>species</td>\n",
       "      <td>4000000001</td>\n",
       "      <td>Orchidaceae</td>\n",
       "      <td>Aa</td>\n",
       "      <td>Valid</td>\n",
       "      <td>Accepted</td>\n",
       "      <td>0</td>\n",
       "    </tr>\n",
       "    <tr>\n",
       "      <th>756946</th>\n",
       "      <td>760991</td>\n",
       "      <td>Aa argyrolepis</td>\n",
       "      <td>species</td>\n",
       "      <td>4000000001</td>\n",
       "      <td>Orchidaceae</td>\n",
       "      <td>Aa</td>\n",
       "      <td>Valid</td>\n",
       "      <td>Accepted</td>\n",
       "      <td>0</td>\n",
       "    </tr>\n",
       "    <tr>\n",
       "      <th>918422</th>\n",
       "      <td>922666</td>\n",
       "      <td>Aa aurantiaca</td>\n",
       "      <td>species</td>\n",
       "      <td>4000000001</td>\n",
       "      <td>Orchidaceae</td>\n",
       "      <td>Aa</td>\n",
       "      <td>Valid</td>\n",
       "      <td>Accepted</td>\n",
       "      <td>0</td>\n",
       "    </tr>\n",
       "    <tr>\n",
       "      <th>923805</th>\n",
       "      <td>928062</td>\n",
       "      <td>Aa calceata</td>\n",
       "      <td>species</td>\n",
       "      <td>4000000001</td>\n",
       "      <td>Orchidaceae</td>\n",
       "      <td>Aa</td>\n",
       "      <td>Valid</td>\n",
       "      <td>Accepted</td>\n",
       "      <td>0</td>\n",
       "    </tr>\n",
       "    <tr>\n",
       "      <th>...</th>\n",
       "      <td>...</td>\n",
       "      <td>...</td>\n",
       "      <td>...</td>\n",
       "      <td>...</td>\n",
       "      <td>...</td>\n",
       "      <td>...</td>\n",
       "      <td>...</td>\n",
       "      <td>...</td>\n",
       "      <td>...</td>\n",
       "    </tr>\n",
       "    <tr>\n",
       "      <th>1442733</th>\n",
       "      <td>4000046085</td>\n",
       "      <td>Ã— Zygosepescalum</td>\n",
       "      <td>genus</td>\n",
       "      <td>7000000429</td>\n",
       "      <td>Orchidaceae</td>\n",
       "      <td>Zygosepescalum</td>\n",
       "      <td>Valid</td>\n",
       "      <td>Accepted</td>\n",
       "      <td>0</td>\n",
       "    </tr>\n",
       "    <tr>\n",
       "      <th>1441514</th>\n",
       "      <td>4000044858</td>\n",
       "      <td>Ã— Zygostylis</td>\n",
       "      <td>genus</td>\n",
       "      <td>7000000429</td>\n",
       "      <td>Orchidaceae</td>\n",
       "      <td>Zygostylis</td>\n",
       "      <td>Valid</td>\n",
       "      <td>Accepted</td>\n",
       "      <td>0</td>\n",
       "    </tr>\n",
       "    <tr>\n",
       "      <th>1443289</th>\n",
       "      <td>4000046644</td>\n",
       "      <td>Ã— Zygotoria</td>\n",
       "      <td>genus</td>\n",
       "      <td>7000000429</td>\n",
       "      <td>Orchidaceae</td>\n",
       "      <td>Zygotoria</td>\n",
       "      <td>Valid</td>\n",
       "      <td>Accepted</td>\n",
       "      <td>0</td>\n",
       "    </tr>\n",
       "    <tr>\n",
       "      <th>1443330</th>\n",
       "      <td>4000046685</td>\n",
       "      <td>Ã— Zygowarrea</td>\n",
       "      <td>genus</td>\n",
       "      <td>7000000429</td>\n",
       "      <td>Orchidaceae</td>\n",
       "      <td>Zygowarrea</td>\n",
       "      <td>Valid</td>\n",
       "      <td>Accepted</td>\n",
       "      <td>0</td>\n",
       "    </tr>\n",
       "    <tr>\n",
       "      <th>1442586</th>\n",
       "      <td>4000045938</td>\n",
       "      <td>Ã— Zygozella</td>\n",
       "      <td>genus</td>\n",
       "      <td>7000000429</td>\n",
       "      <td>Orchidaceae</td>\n",
       "      <td>Zygozella</td>\n",
       "      <td>Valid</td>\n",
       "      <td>Accepted</td>\n",
       "      <td>0</td>\n",
       "    </tr>\n",
       "  </tbody>\n",
       "</table>\n",
       "<p>444893 rows × 9 columns</p>\n",
       "</div>"
      ],
      "text/plain": [
       "            taxonID     scientificName taxonRank  parentNameUsageID  \\\n",
       "1405743  4000000001                 Aa     genus         7000000429   \n",
       "316954       319089      Aa achalensis   species         4000000001   \n",
       "756946       760991     Aa argyrolepis   species         4000000001   \n",
       "918422       922666      Aa aurantiaca   species         4000000001   \n",
       "923805       928062        Aa calceata   species         4000000001   \n",
       "...             ...                ...       ...                ...   \n",
       "1442733  4000046085  Ã— Zygosepescalum     genus         7000000429   \n",
       "1441514  4000044858      Ã— Zygostylis     genus         7000000429   \n",
       "1443289  4000046644       Ã— Zygotoria     genus         7000000429   \n",
       "1443330  4000046685      Ã— Zygowarrea     genus         7000000429   \n",
       "1442586  4000045938       Ã— Zygozella     genus         7000000429   \n",
       "\n",
       "              family           genus nomenclaturalStatus taxonomicStatus  \\\n",
       "1405743  Orchidaceae              Aa               Valid        Accepted   \n",
       "316954   Orchidaceae              Aa               Valid        Accepted   \n",
       "756946   Orchidaceae              Aa               Valid        Accepted   \n",
       "918422   Orchidaceae              Aa               Valid        Accepted   \n",
       "923805   Orchidaceae              Aa               Valid        Accepted   \n",
       "...              ...             ...                 ...             ...   \n",
       "1442733  Orchidaceae  Zygosepescalum               Valid        Accepted   \n",
       "1441514  Orchidaceae      Zygostylis               Valid        Accepted   \n",
       "1443289  Orchidaceae       Zygotoria               Valid        Accepted   \n",
       "1443330  Orchidaceae      Zygowarrea               Valid        Accepted   \n",
       "1442586  Orchidaceae       Zygozella               Valid        Accepted   \n",
       "\n",
       "         acceptedNameUsageID  \n",
       "1405743                    0  \n",
       "316954                     0  \n",
       "756946                     0  \n",
       "918422                     0  \n",
       "923805                     0  \n",
       "...                      ...  \n",
       "1442733                    0  \n",
       "1441514                    0  \n",
       "1443289                    0  \n",
       "1443330                    0  \n",
       "1442586                    0  \n",
       "\n",
       "[444893 rows x 9 columns]"
      ]
     },
     "metadata": {},
     "output_type": "display_data"
    }
   ],
   "source": [
    "wfo_df = wfo_df[(wfo_df['nomenclaturalStatus'] == 'Valid') | (wfo_df['nomenclaturalStatus'] == 'Conserved')]\n",
    "wfo_df = wfo_df[wfo_df['taxonomicStatus'] == 'Accepted']\n",
    "wfo_df = wfo_df.sort_values('scientificName')\n",
    "display(wfo_df)"
   ]
  },
  {
   "cell_type": "markdown",
   "id": "f1f71bc60ad401d6",
   "metadata": {},
   "source": [
    "Now that we reduced the dataframe to valid or conserved entries, we list the possible taxonRank in taxonomic order:\n",
    "<br/><br/>\n",
    "\n",
    "|             | Any   | Valid  | Conserved|\n",
    "|-------------|-------|--------| ----------- |\n",
    "| kingdom     | 1     | 1      | 0 |\n",
    "| subkingdom  | 2     | 2      | 0 |\n",
    "| phylum      | 9     | 9      | 0 |\n",
    "| class       | 16    | 16     | 0 |\n",
    "| subclass    | 26    | 26     | 0 |\n",
    "| superorder  | 2     | 2      | 0 |\n",
    "| order       | 142   | 141    | 1 |\n",
    "| family      | 717   | 698    | 19 |\n",
    "| subfamily   | 90    | 89     | 1 |\n",
    "| tribe       | 84    | 84     | 0 |\n",
    "| subtribe    | 170   | 170    | 0 |\n",
    "| genus       | 17910 | 17598  | 312 |\n",
    "| subgenus    | 71    | 71     | 0 |\n",
    "| section     | 267   | 267    | 0 |\n",
    "| subsection  | 86    | 86     | 0 |\n",
    "| series      | 22    | 22     | 0 |\n",
    "| subseries   | 2     | 2      | 0 |\n",
    "| species     | 377223 | 377164 | 59 |\n",
    "| prole       | 1     |        |   |\n",
    "| subspecies  | 23371 |        |   |\n",
    "| variety     | 23821 |        |   |\n",
    "| subvariety  | 3     |        |   |\n",
    "| form        | 857   |        |   |"
   ]
  },
  {
   "cell_type": "code",
   "execution_count": 9,
   "id": "87bd7c487c45f079",
   "metadata": {
    "ExecuteTime": {
     "end_time": "2024-09-28T11:43:31.062405Z",
     "start_time": "2024-09-28T11:43:30.978051Z"
    }
   },
   "outputs": [],
   "source": [
    "wfo_df_grouped_by_taxonRank = wfo_df.groupby('taxonRank')"
   ]
  },
  {
   "cell_type": "code",
   "execution_count": 10,
   "id": "87a4c90bf1049f0c",
   "metadata": {
    "ExecuteTime": {
     "end_time": "2024-09-28T11:43:35.690757Z",
     "start_time": "2024-09-28T11:43:33.071728Z"
    }
   },
   "outputs": [
    {
     "name": "stdout",
     "output_type": "stream",
     "text": [
      "We have 377223 valid and accepted species.\n",
      "and 377204 of those have valid and accepted parents.\n",
      "377223 have a genus and 377223 a family listed in the genus and family columns.\n"
     ]
    }
   ],
   "source": [
    "parent_df = wfo_df.filter(['taxonID', 'scientificName', 'taxonRank', 'nomenclaturalStatus', 'taxonomicStatus', 'acceptedNameUsageID']).rename(columns={'taxonID': 'parentNameUsageID', 'scientificName': 'parentScientificName', 'taxonRank': 'parentTaxonRank', 'nomenclaturalStatus': 'parentNomenclaturalStatus', 'taxonomicStatus': 'parentTaxonomicStatus', 'acceptedNameUsageID': 'parentAcceptedNameUsageID'}).set_index(['parentNameUsageID'])\n",
    "species_df = wfo_df_grouped_by_taxonRank.get_group('species').join(parent_df, on=['parentNameUsageID'], how='left')\n",
    "print(f'We have {len(species_df)} valid and accepted species.')\n",
    "print(f'and {species_df['parentTaxonRank'].value_counts().sum()} of those have valid and accepted parents.')\n",
    "print(f'{pd.isnull(species_df['genus']).value_counts().sum()} have a genus and {pd.isnull(species_df['family']).value_counts().sum()} a family listed in the genus and family columns.')"
   ]
  },
  {
   "cell_type": "markdown",
   "id": "19191b614b60d93e",
   "metadata": {},
   "source": [
    "#### 1.2 Creating the Dataframes"
   ]
  },
  {
   "cell_type": "code",
   "execution_count": 11,
   "id": "381dabbe555aefc9",
   "metadata": {
    "ExecuteTime": {
     "end_time": "2024-09-29T11:59:10.935516Z",
     "start_time": "2024-09-29T11:59:10.242478Z"
    }
   },
   "outputs": [],
   "source": [
    "# ---- definition of category dataframe ----\n",
    "hierarchy = ['phylum', 'class', 'subclass', 'superorder', 'order', 'family', 'subfamily', 'tribe', 'subtribe', 'genus', 'subgenus', 'section', 'subsection', 'series', 'subseries', 'species']\n",
    "dfs = {category: pd.DataFrame() for category in hierarchy}"
   ]
  },
  {
   "cell_type": "code",
   "execution_count": 13,
   "id": "8be5d475efda2fa3",
   "metadata": {
    "ExecuteTime": {
     "end_time": "2024-09-29T19:33:14.446520Z",
     "start_time": "2024-09-29T19:33:14.350495Z"
    }
   },
   "outputs": [],
   "source": [
    "def create_dataframes(level):\n",
    "    '''\n",
    "    Creates dataframes for a given level in the hierarchy.\n",
    "    e.g: create_dataframes('subclass') gives the dataframe containing all subclasses listed in the csv file, with two columns for each parent level. For 'subclass' those would be the four columns 'taxonID_parent_phylum', 'scientificName_parent_phylum', 'taxonID_parent_class', 'scientificName_parent_class'\n",
    "    :param level: one of the strings listed in hierarchy\n",
    "    :return: dataframe\n",
    "    '''\n",
    "    parents = {category: dfs[category] for category in hierarchy[:hierarchy.index(level)]}\n",
    "    if parents:\n",
    "        if level == 'species':\n",
    "            level_dfs = [wfo_df_grouped_by_taxonRank.get_group(level).filter(['taxonID', 'scientificName', 'parentNameUsageID', 'genus', 'family']).merge(parents[key].filter(['taxonID', 'scientificName']), how='inner', left_on='parentNameUsageID', right_on='taxonID', suffixes=(None, f\"_parent_{key}\")) for key in parents]\n",
    "        else:\n",
    "            level_dfs = [wfo_df_grouped_by_taxonRank.get_group(level).filter(['taxonID', 'scientificName', 'parentNameUsageID']).merge(parents[key].filter(['taxonID', 'scientificName']), how='inner', left_on='parentNameUsageID', right_on='taxonID', suffixes=(None, f\"_parent_{key}\")) for key in parents]\n",
    "        # The goal is to concatenate all dataframes from levels_dfs, to get one level_df with two columns for each parent level. To do that without converting the IDs from int to float and therefore losing some digits, we need to ensure that each DataFrame contains all the columns and fill the missing integer columns with 0 while maintaining int64 type.\n",
    "        all_columns = set().union(*[el.columns for el in level_dfs])\n",
    "        filled_dataframes = []\n",
    "        for df in level_dfs:\n",
    "            missing_columns = list(all_columns.difference(df.columns))\n",
    "            df_filled = pd.concat([df, pd.DataFrame(0, index=df.index, columns=missing_columns, dtype='int64')], axis=1)\n",
    "            filled_dataframes.append(df_filled)\n",
    "        level_df = pd.concat(filled_dataframes, ignore_index=True).replace(0, None).dropna(axis=1, how='all')\n",
    "        return level_df\n",
    "    else:\n",
    "        phylum_df = wfo_df_grouped_by_taxonRank.get_group('phylum').filter(['taxonID', 'scientificName']).merge(phyla_english_names_df, how='left', on='scientificName')\n",
    "        return phylum_df"
   ]
  },
  {
   "cell_type": "code",
   "execution_count": 14,
   "id": "d997687fba225236",
   "metadata": {
    "ExecuteTime": {
     "end_time": "2024-09-29T19:33:22.808030Z",
     "start_time": "2024-09-29T19:33:16.406983Z"
    }
   },
   "outputs": [
    {
     "name": "stdout",
     "output_type": "stream",
     "text": [
      "phylum \n",
      " taxonID               9\n",
      "scientificName        9\n",
      "phylum_englishName    9\n",
      "dtype: int64 \n",
      "\n",
      "class \n",
      " taxonID                         16\n",
      "scientificName                  16\n",
      "parentNameUsageID               16\n",
      "taxonID_parent_phylum           16\n",
      "scientificName_parent_phylum    16\n",
      "dtype: int64 \n",
      "\n",
      "subclass \n",
      " taxonID                        26\n",
      "scientificName                 26\n",
      "parentNameUsageID              26\n",
      "taxonID_parent_class           26\n",
      "scientificName_parent_class    26\n",
      "dtype: int64 \n",
      "\n",
      "superorder \n",
      " taxonID                           2\n",
      "scientificName                    2\n",
      "parentNameUsageID                 2\n",
      "scientificName_parent_subclass    2\n",
      "taxonID_parent_subclass           2\n",
      "dtype: int64 \n",
      "\n",
      "order \n",
      " taxonID                             142\n",
      "scientificName                      142\n",
      "parentNameUsageID                   142\n",
      "taxonID_parent_phylum                64\n",
      "scientificName_parent_phylum         64\n",
      "scientificName_parent_superorder     14\n",
      "taxonID_parent_superorder            14\n",
      "scientificName_parent_subclass       53\n",
      "taxonID_parent_subclass              53\n",
      "taxonID_parent_class                 11\n",
      "scientificName_parent_class          11\n",
      "dtype: int64 \n",
      "\n",
      "family \n",
      " taxonID                        717\n",
      "scientificName                 717\n",
      "parentNameUsageID              717\n",
      "taxonID_parent_order           717\n",
      "scientificName_parent_order    717\n",
      "dtype: int64 \n",
      "\n",
      "subfamily \n",
      " taxonID                         90\n",
      "scientificName                  90\n",
      "parentNameUsageID               90\n",
      "scientificName_parent_family    90\n",
      "taxonID_parent_family           90\n",
      "dtype: int64 \n",
      "\n",
      "tribe \n",
      " taxonID                            84\n",
      "scientificName                     84\n",
      "parentNameUsageID                  84\n",
      "taxonID_parent_subfamily           84\n",
      "scientificName_parent_subfamily    84\n",
      "dtype: int64 \n",
      "\n",
      "subtribe \n",
      " taxonID                        170\n",
      "scientificName                 170\n",
      "parentNameUsageID              170\n",
      "scientificName_parent_tribe    170\n",
      "taxonID_parent_tribe           170\n",
      "dtype: int64 \n",
      "\n",
      "genus \n",
      " taxonID                            17910\n",
      "scientificName                     17910\n",
      "parentNameUsageID                  17910\n",
      "scientificName_parent_family       14523\n",
      "scientificName_parent_tribe         1174\n",
      "taxonID_parent_subfamily            1356\n",
      "scientificName_parent_subfamily     1356\n",
      "taxonID_parent_family              14523\n",
      "scientificName_parent_subtribe       857\n",
      "taxonID_parent_tribe                1174\n",
      "taxonID_parent_subtribe              857\n",
      "dtype: int64 \n",
      "\n",
      "subgenus \n",
      " taxonID                        71\n",
      "scientificName                 71\n",
      "parentNameUsageID              71\n",
      "taxonID_parent_genus           71\n",
      "scientificName_parent_genus    71\n",
      "dtype: int64 \n",
      "\n",
      "section \n",
      " taxonID                           267\n",
      "scientificName                    267\n",
      "parentNameUsageID                 267\n",
      "taxonID_parent_subgenus            62\n",
      "taxonID_parent_genus              205\n",
      "scientificName_parent_genus       205\n",
      "scientificName_parent_subgenus     62\n",
      "dtype: int64 \n",
      "\n",
      "subsection \n",
      " taxonID                          86\n",
      "scientificName                   86\n",
      "parentNameUsageID                86\n",
      "taxonID_parent_genus             13\n",
      "scientificName_parent_genus      13\n",
      "scientificName_parent_section    73\n",
      "taxonID_parent_section           73\n",
      "dtype: int64 \n",
      "\n",
      "series \n",
      " taxonID                          22\n",
      "scientificName                   22\n",
      "parentNameUsageID                22\n",
      "taxonID_parent_genus             12\n",
      "scientificName_parent_genus      12\n",
      "scientificName_parent_section    10\n",
      "taxonID_parent_section           10\n",
      "dtype: int64 \n",
      "\n",
      "subseries \n",
      " taxonID                         2\n",
      "scientificName                  2\n",
      "parentNameUsageID               2\n",
      "taxonID_parent_series           2\n",
      "scientificName_parent_series    2\n",
      "dtype: int64 \n",
      "\n",
      "species \n",
      " taxonID                             377204\n",
      "scientificName                      377204\n",
      "parentNameUsageID                   377204\n",
      "genus                               377204\n",
      "family                              377204\n",
      "taxonID_parent_genus                372410\n",
      "scientificName_parent_subsection      1035\n",
      "scientificName_parent_series            71\n",
      "taxonID_parent_subgenus                279\n",
      "scientificName_parent_genus         372410\n",
      "taxonID_parent_subseries                78\n",
      "scientificName_parent_section         3331\n",
      "taxonID_parent_section                3331\n",
      "taxonID_parent_series                   71\n",
      "taxonID_parent_subsection             1035\n",
      "scientificName_parent_subseries         78\n",
      "scientificName_parent_subgenus         279\n",
      "dtype: int64 \n",
      "\n"
     ]
    }
   ],
   "source": [
    "for element in hierarchy:\n",
    "    dfs[element] = create_dataframes(element)\n",
    "    print(element, '\\n', dfs[element].count(), '\\n')"
   ]
  },
  {
   "cell_type": "markdown",
   "id": "82808e02f10d0355",
   "metadata": {},
   "source": [
    "### 2. Inserting data from df into postgres"
   ]
  },
  {
   "cell_type": "code",
   "execution_count": 19,
   "id": "c5f6377c402bf933",
   "metadata": {
    "ExecuteTime": {
     "end_time": "2024-09-29T19:34:47.870818Z",
     "start_time": "2024-09-29T19:34:47.808001Z"
    }
   },
   "outputs": [],
   "source": [
    "db_params = {\n",
    "    'dbname': 'WhatPlant_DB',\n",
    "    'user': 'postgres',\n",
    "    'password': 'Deluchka5770!',\n",
    "    'host': 'localhost',\n",
    "    'port': '5432'\n",
    "}\n",
    "\n",
    "conn = psycopg2.connect(\n",
    "        dbname=db_params['dbname'],\n",
    "        user=db_params['user'],\n",
    "        password=db_params['password'],\n",
    "        host=db_params['host'],\n",
    "        port=db_params['port']\n",
    "    )\n",
    "cur = conn.cursor()"
   ]
  },
  {
   "cell_type": "code",
   "execution_count": 22,
   "id": "19616cce0e0ae80b",
   "metadata": {
    "ExecuteTime": {
     "end_time": "2024-09-29T19:34:48.901132Z",
     "start_time": "2024-09-29T19:34:48.885694Z"
    }
   },
   "outputs": [],
   "source": [
    "insert_into_phyla_query = '''   INSERT INTO WhatPlant.phyla (phylum_id, phylum_latin_name, phylum_english_name) \n",
    "                                VALUES (%s, %s, %s); '''\n",
    "\n",
    "insert_into_classes_query = ''' INSERT INTO WhatPlant.classes (class_id, class_latin_name, phylum_id) \n",
    "                                VALUES (%s, %s, %s); '''\n",
    "\n",
    "insert_into_subclasses_query = ''' INSERT INTO WhatPlant.subclasses (subclass_id, subclass_latin_name, class_id) \n",
    "                                   VALUES (%s, %s, %s); '''\n",
    "\n",
    "insert_into_superorders_query = ''' INSERT INTO WhatPlant.superorders (superorder_id, superorder_latin_name, subclass_id) \n",
    "                                   VALUES (%s, %s, %s); '''\n",
    "\n",
    "insert_into_orders_query = '''  INSERT INTO WhatPlant.orders (order_id, order_latin_name, superorder_id, subclass_id, class_id, phylum_id)\n",
    "                                VALUES (%s, %s, %s, %s, %s, %s); '''\n",
    "\n",
    "insert_into_families_query = '''    INSERT INTO WhatPlant.families (family_id, family_latin_name, order_id)\n",
    "                                    VALUES (%s, %s, %s); '''\n",
    "\n",
    "insert_into_subfamilies_query = ''' INSERT INTO WhatPlant.subfamilies (subfamily_id, subfamily_latin_name, family_id)\n",
    "                                    VALUES (%s, %s, %s); '''\n",
    "\n",
    "insert_into_tribes_query = '''  INSERT INTO WhatPlant.tribes (tribe_id, tribe_latin_name, subfamily_id)\n",
    "                                VALUES (%s, %s, %s); '''\n",
    "\n",
    "insert_into_subtribes_query = '''   INSERT INTO WhatPlant.subtribes (subtribe_id, subtribe_latin_name, tribe_id)\n",
    "                                    VALUES (%s, %s, %s); '''\n",
    "\n",
    "insert_into_genera_query = '''  INSERT INTO WhatPlant.genera (genus_id, genus_latin_name, subtribe_id, tribe_id, subfamily_id, family_id)\n",
    "                                VALUES (%s, %s, %s, %s, %s, %s); '''\n",
    "\n",
    "insert_into_subgenera_query = '''   INSERT INTO WhatPlant.subgenera (subgenus_id, subgenus_latin_name, genus_id)\n",
    "                                    VALUES (%s, %s, %s); '''\n",
    "\n",
    "insert_into_sections_query = '''    INSERT INTO WhatPlant.sections (section_id, section_latin_name, subgenus_id, genus_id)\n",
    "                                    VALUES (%s, %s, %s, %s); '''\n",
    "\n",
    "insert_into_subsections_query = ''' INSERT INTO WhatPlant.subsections (subsection_id, subsection_latin_name, section_id, genus_id)\n",
    "                                    VALUES (%s, %s, %s, %s); '''\n",
    "\n",
    "insert_into_series_query = '''  INSERT INTO WhatPlant.series (series_id, series_latin_name, section_id, genus_id)\n",
    "                                VALUES (%s, %s, %s, %s); '''\n",
    "\n",
    "insert_into_subseries_query = '''   INSERT INTO WhatPlant.subseries (subseries_id, subseries_latin_name, series_id)\n",
    "                                    VALUES (%s, %s, %s); '''\n",
    "\n",
    "insert_into_species_query = ''' INSERT INTO WhatPlant.species (species_id, species_latin_name, subseries_id, series_id, subsection_id, section_id, subgenus_id, genus_id, genus_name, family_name)\n",
    "                                    VALUES (%s, %s, %s, %s, %s, %s, %s, %s, %s, %s); '''\n",
    "\n",
    "insert_into_species_synonyms_query = '''    INSERT INTO WhatPlant.species_synonyms \n",
    "                                            (species_synonym_id, species_synonym_name, synonym_for)\n",
    "                                            VALUES (%s, %s, %s); '''"
   ]
  },
  {
   "cell_type": "code",
   "execution_count": 23,
   "id": "70cfcdfa5cdac178",
   "metadata": {
    "ExecuteTime": {
     "end_time": "2024-09-29T19:34:51.926224Z",
     "start_time": "2024-09-29T19:34:51.111399Z"
    }
   },
   "outputs": [],
   "source": [
    "for _, row in dfs['phylum'].iterrows():\n",
    "    phylum_data = (row['taxonID'], row['scientificName'], row['phylum_englishName'])\n",
    "    cur.execute(insert_into_phyla_query, phylum_data)\n",
    "\n",
    "for _, row in dfs['class'].iterrows():\n",
    "    class_data = (row['taxonID'], row['scientificName'], row['taxonID_parent_phylum'])\n",
    "    cur.execute(insert_into_classes_query, class_data)\n",
    "\n",
    "for _, row in dfs['subclass'].iterrows():\n",
    "    subclass_data = (row['taxonID'], row['scientificName'], row['taxonID_parent_class'])\n",
    "    cur.execute(insert_into_subclasses_query, subclass_data)"
   ]
  },
  {
   "cell_type": "code",
   "execution_count": 24,
   "id": "f1a7b0a31e8bb857",
   "metadata": {
    "ExecuteTime": {
     "end_time": "2024-09-29T19:34:59.411078Z",
     "start_time": "2024-09-29T19:34:53.256216Z"
    }
   },
   "outputs": [],
   "source": [
    "for _, row in dfs['superorder'].iterrows():\n",
    "    superorder_data = (row['taxonID'], row['scientificName'], row['taxonID_parent_subclass'])\n",
    "    cur.execute(insert_into_superorders_query, superorder_data)\n",
    "\n",
    "for _, row in dfs['order'].iterrows():\n",
    "    order_data = (row['taxonID'], row['scientificName'], row['taxonID_parent_superorder'], row['taxonID_parent_subclass'], row['taxonID_parent_class'], row['taxonID_parent_phylum'])\n",
    "    cur.execute(insert_into_orders_query, order_data)\n",
    "\n",
    "for _, row in dfs['family'].iterrows():\n",
    "    family_data = (row['taxonID'], row['scientificName'], row['taxonID_parent_order'])\n",
    "    cur.execute(insert_into_families_query, family_data)\n",
    "    \n",
    "for _, row in dfs['subfamily'].iterrows():\n",
    "    subfamily_data = (row['taxonID'], row['scientificName'], row['taxonID_parent_family'])\n",
    "    cur.execute(insert_into_subfamilies_query, subfamily_data)\n",
    "\n",
    "for _, row in dfs['tribe'].iterrows():\n",
    "    tribe_data = (row['taxonID'], row['scientificName'], row['taxonID_parent_subfamily'])\n",
    "    cur.execute(insert_into_tribes_query, tribe_data)\n",
    "    \n",
    "for _, row in dfs['subtribe'].iterrows():\n",
    "    subtribe_data = (row['taxonID'], row['scientificName'], row['taxonID_parent_tribe'])\n",
    "    cur.execute(insert_into_subtribes_query, subtribe_data)\n",
    "    \n",
    "for _, row in dfs['genus'].iterrows():\n",
    "    genus_data = (row['taxonID'], row['scientificName'], row['taxonID_parent_subtribe'], row['taxonID_parent_tribe'],  row['taxonID_parent_subfamily'], row['taxonID_parent_family'])\n",
    "    cur.execute(insert_into_genera_query, genus_data)\n",
    "    \n",
    "for _, row in dfs['subgenus'].iterrows():\n",
    "    subgenus_data = (row['taxonID'], row['scientificName'], row['taxonID_parent_genus'])\n",
    "    cur.execute(insert_into_subgenera_query, subgenus_data)\n",
    "\n",
    "for _, row in dfs['section'].iterrows():\n",
    "    section_data = (row['taxonID'], row['scientificName'], row['taxonID_parent_subgenus'], row['taxonID_parent_genus'])\n",
    "    cur.execute(insert_into_sections_query, section_data)\n",
    "    \n",
    "for _, row in dfs['subsection'].iterrows():\n",
    "    subsection_data = (row['taxonID'], row['scientificName'], row['taxonID_parent_section'], row['taxonID_parent_genus'])\n",
    "    cur.execute(insert_into_subsections_query, subsection_data)\n",
    "\n",
    "for _, row in dfs['series'].iterrows():\n",
    "    series_data = (row['taxonID'], row['scientificName'], row['taxonID_parent_section'], row['taxonID_parent_genus'])\n",
    "    cur.execute(insert_into_series_query, series_data)\n",
    "\n",
    "for _, row in dfs['subseries'].iterrows():\n",
    "    subseries_data = (row['taxonID'], row['scientificName'], row['taxonID_parent_series'])\n",
    "    cur.execute(insert_into_subseries_query, subseries_data)"
   ]
  },
  {
   "cell_type": "code",
   "execution_count": 25,
   "id": "44b58bd996f0c90d",
   "metadata": {
    "ExecuteTime": {
     "end_time": "2024-09-29T19:36:50.950748Z",
     "start_time": "2024-09-29T19:35:02.161298Z"
    }
   },
   "outputs": [],
   "source": [
    "for _, row in dfs['species'].iterrows():\n",
    "    species_data = (row['taxonID'], row['scientificName'], row['taxonID_parent_subseries'], row['taxonID_parent_series'], row['taxonID_parent_subsection'], row['taxonID_parent_section'], row['taxonID_parent_subgenus'], row['taxonID_parent_genus'], row['genus'], row['family'])\n",
    "    cur.execute(insert_into_species_query, species_data)"
   ]
  },
  {
   "cell_type": "code",
   "execution_count": 26,
   "id": "2c312f0a8c4db81d",
   "metadata": {
    "ExecuteTime": {
     "end_time": "2024-09-29T19:36:54.058080Z",
     "start_time": "2024-09-29T19:36:54.043210Z"
    }
   },
   "outputs": [],
   "source": [
    "conn.commit()\n",
    "cur.close()\n",
    "conn.close()"
   ]
  }
 ],
 "metadata": {
  "kernelspec": {
   "display_name": "Python 3",
   "language": "python",
   "name": "python3"
  },
  "language_info": {
   "codemirror_mode": {
    "name": "ipython",
    "version": 3
   },
   "file_extension": ".py",
   "mimetype": "text/x-python",
   "name": "python",
   "nbconvert_exporter": "python",
   "pygments_lexer": "ipython3",
   "version": "3.12.4"
  }
 },
 "nbformat": 4,
 "nbformat_minor": 5
}
