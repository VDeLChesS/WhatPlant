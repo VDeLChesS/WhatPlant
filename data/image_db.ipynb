{
 "cells": [
  {
   "cell_type": "code",
   "execution_count": 1,
   "id": "3c1475d053846f7",
   "metadata": {
    "ExecuteTime": {
     "end_time": "2024-09-30T00:49:09.204073Z",
     "start_time": "2024-09-30T00:49:09.194421Z"
    }
   },
   "outputs": [],
   "source": [
    "import pandas as pd\n",
    "import psycopg2\n",
    "import numpy as np\n",
    "import os"
   ]
  },
  {
   "cell_type": "code",
   "execution_count": 2,
   "id": "a6b915cb9e382ab5",
   "metadata": {
    "ExecuteTime": {
     "end_time": "2024-09-30T00:38:43.595241Z",
     "start_time": "2024-09-30T00:38:43.524160Z"
    }
   },
   "outputs": [],
   "source": [
    "db_params = {\n",
    "    'dbname': 'WhatPlant_DB',\n",
    "    'user': 'postgres',\n",
    "    'password': 'Deluchka5770!',\n",
    "    'host': 'localhost',\n",
    "    'port': '5432'\n",
    "}\n"
   ]
  },
  {
   "cell_type": "markdown",
   "id": "4b325338815b1325",
   "metadata": {},
   "source": [
    "# 1. first_nature_images"
   ]
  },
  {
   "cell_type": "code",
   "execution_count": 3,
   "id": "a4f1e0496f763f8f",
   "metadata": {},
   "outputs": [],
   "source": [
    "conn = psycopg2.connect(\n",
    "        dbname=db_params['dbname'],\n",
    "        user=db_params['user'],\n",
    "        password=db_params['password'],\n",
    "        host=db_params['host'],\n",
    "        port=db_params['port']\n",
    "    )\n",
    "cur = conn.cursor()"
   ]
  },
  {
   "cell_type": "code",
   "execution_count": 4,
   "id": "29a93ea84eb5154b",
   "metadata": {
    "ExecuteTime": {
     "end_time": "2024-09-30T00:48:12.312894Z",
     "start_time": "2024-09-30T00:48:12.100487Z"
    },
    "collapsed": true
   },
   "outputs": [],
   "source": [
    "image_paths = os.listdir('first_nature_images')\n",
    "paths_species_df = pd.DataFrame(columns=['image_path', 'species'])"
   ]
  },
  {
   "cell_type": "code",
   "execution_count": 5,
   "id": "initial_id",
   "metadata": {
    "ExecuteTime": {
     "end_time": "2024-09-30T00:59:43.171662Z",
     "start_time": "2024-09-30T00:58:18.504858Z"
    }
   },
   "outputs": [
    {
     "name": "stdout",
     "output_type": "stream",
     "text": [
      "                      image_path species\n",
      "0     Achillea_millefolium_2.jpg   42097\n",
      "1     Achillea_millefolium_3.jpg   42097\n",
      "2     Achillea_millefolium_4.jpg   42097\n",
      "3     Achillea_millefolium_5.jpg   42097\n",
      "4        Achillea_ptarmica_2.jpg   33807\n",
      "...                          ...     ...\n",
      "1221        Viola_tricolor_2.jpg  424643\n",
      "1222        Viola_tricolor_3.jpg  424643\n",
      "1223        Viola_tricolor_4.jpg  424643\n",
      "1224        Viola_tricolor_5.jpg  424643\n",
      "1225        Viola_tricolor_6.jpg  424643\n",
      "\n",
      "[1226 rows x 2 columns]\n"
     ]
    }
   ],
   "source": [
    "\n",
    "query = ''' SELECT * FROM whatplant.species WHERE species.species_latin_name = %s'''\n",
    "for path in image_paths:\n",
    "    path_specie = path.split('_')[0] + ' ' + path.split('_')[1]\n",
    "    cur.execute(query, (path_specie,))\n",
    "    results = cur.fetchall()\n",
    "    if results:\n",
    "        for result in results:\n",
    "            paths_species_df = pd.concat([paths_species_df, pd.DataFrame({\"image_path\": [path], \"species\": [result[0]]})], ignore_index=True)\n",
    "\n",
    "print(paths_species_df)"
   ]
  },
  {
   "cell_type": "code",
   "execution_count": 6,
   "id": "53216e5b10c615f5",
   "metadata": {},
   "outputs": [],
   "source": [
    "conn.commit() \n",
    "conn.close() "
   ]
  },
  {
   "cell_type": "code",
   "execution_count": null,
   "id": "b65b6d8b064c9c0",
   "metadata": {},
   "outputs": [],
   "source": []
  }
 ],
 "metadata": {
  "kernelspec": {
   "display_name": "Python 3",
   "language": "python",
   "name": "python3"
  },
  "language_info": {
   "codemirror_mode": {
    "name": "ipython",
    "version": 3
   },
   "file_extension": ".py",
   "mimetype": "text/x-python",
   "name": "python",
   "nbconvert_exporter": "python",
   "pygments_lexer": "ipython3",
   "version": "3.12.4"
  }
 },
 "nbformat": 4,
 "nbformat_minor": 5
}
